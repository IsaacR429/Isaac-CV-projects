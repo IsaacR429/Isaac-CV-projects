{
 "cells": [
  {
   "cell_type": "markdown",
   "id": "c5216b85-f1bd-4c8c-8654-949191acdf1c",
   "metadata": {},
   "source": [
    "# MuleSoft_Data_Sample_Baseline \n"
   ]
  },
  {
   "cell_type": "markdown",
   "id": "6d14a9cd-d8bc-4e3b-b22f-d58e68f9f870",
   "metadata": {},
   "source": [
    "In our context, the baseline is a statistical reference point that shows what \"normal\" looks like for the system. It helps us understand the typical range of behavior, like the usual number of API requests. Think of it as a benchmark that allows us to spot anything unusual, like spikes or drops in traffic, by comparing the current behavior to the expected range. This helps us quickly identify any anomalies, trends, or deviations from the norm. \n",
    "\n",
    "\n",
    "\n",
    "The statistical metrics that we are going to use to support our baseline are:  \n",
    "\n",
    " \n",
    " *-The Average (Mean): The average is the central value of your data, providing a general \"middle point\".*\n",
    "\n",
    "*-Standard Deviation (σ): measures how much the values deviate from the average*\n",
    "\n",
    " *-Lower Threshold (Avg - 2σ): The minimum count that is likely to occur under normal conditions* \n",
    "\n",
    " *-Upper Threshold (Avg + 2σ): The maximum count that is likely to occur under normal conditions.* \n",
    "\n",
    " \n",
    "\n",
    "\n",
    "\n",
    "For an example if take the case of the “Average Request count” graph for a duration of 15 days present in MuleSoftwe will have: \n",
    "\n",
    "\n",
    "\n",
    "*-The Average (Mean): will be average of request in 15 days for each API/App (10 in total)*. \n",
    "\n",
    "*-Standard Deviation (σ): will measure how much some request deviate from the average of request for each API/App (10 in total).* \n",
    "\n",
    "*-Lower Threshold (Avg - 2σ): The minimum of number request that is likely to occur under normal conditions for each API/App.* \n",
    "\n",
    "*-Upper Threshold (Avg + 2σ): The maximum of number request that is likely to occur under normal conditions for each API/App.* \n",
    "\n",
    " \n",
    "\n",
    "\n",
    "**Example:** \n",
    "\n",
    " For baseline Range = [Avg - 2σ, Avg + 2σ] \n",
    "\n",
    "  Any value within this range is considered \"normal\" or \"expected\" (System behavior is normal and No action needed unless other metrics (e.g., latency, errors) show issues) and values outside this range are potential anomalies. \n",
    "\n",
    " Concrete example: if the baseline range is [95.86, 124.14] \n",
    "\n",
    " **-Request counts within this range indicate normal operation, the system is healthy** \n",
    " \n",
    " **-Values outside this range might require investigation and care from us.** \n",
    "\n",
    " "
   ]
  },
  {
   "cell_type": "markdown",
   "id": "385ec9e5-643b-4ee1-aa4b-72dda633aa7e",
   "metadata": {},
   "source": [
    "## Import package and librairies"
   ]
  },
  {
   "cell_type": "code",
   "execution_count": null,
   "id": "4bbd5f98-543f-4e7e-b912-6b134da89320",
   "metadata": {},
   "outputs": [],
   "source": [
    "!pip install plotly"
   ]
  },
  {
   "cell_type": "code",
   "execution_count": null,
   "id": "b20ef26b-0861-4107-a89d-db49ca2bd3dd",
   "metadata": {},
   "outputs": [],
   "source": [
    "import openpyxl \n",
    "import pandas as pd\n",
    "import numpy as np\n",
    "import matplotlib.pyplot as plt\n",
    "import plotly.express as px\n",
    "import plotly.graph_objects as go"
   ]
  },
  {
   "cell_type": "code",
   "execution_count": null,
   "id": "4e9246f8-c5d0-4d02-b622-cb659d3e216b",
   "metadata": {},
   "outputs": [],
   "source": [
    "pd.set_option('display.max_rows', None)  # Show all rows\n",
    "pd.set_option('display.max_columns', None)  # Show all columns\n",
    "pd.set_option('display.width', None)  # Adjust the width to fit the content\n"
   ]
  },
  {
   "cell_type": "markdown",
   "id": "eeb1835f-3bca-4ca3-83d8-6cd2c6cb9bc0",
   "metadata": {},
   "source": [
    "### Import data"
   ]
  },
  {
   "cell_type": "code",
   "execution_count": null,
   "id": "55070aae-aeb8-4240-9dde-8f5820483fac",
   "metadata": {},
   "outputs": [],
   "source": [
    "#The following is a sample coming from metrics of MuleSoft. We have the Time, App_id, Heap_commited, Heap_used and Heap_total\n",
    "\n",
    "\n",
    "Mulesoft_metrics_wb = openpyxl.load_workbook('Mulesoft_metrics.xlsx')\n",
    "Mulesoft_metrics = Mulesoft_metrics_wb.active\n",
    "\n",
    "print(Mulesoft_metrics)\n",
    "print('Total number of rows: '+str(Mulesoft_metrics.max_row)+'. And total number of columns: '+str(Mulesoft_metrics.max_column))\n"
   ]
  },
  {
   "cell_type": "markdown",
   "id": "486f0260-751d-4295-b73e-2044bf68c818",
   "metadata": {},
   "source": [
    "### Data processing, cleaning transformation"
   ]
  },
  {
   "cell_type": "code",
   "execution_count": null,
   "id": "1ee1376b-aedf-4eeb-b8e5-af486c9da20c",
   "metadata": {},
   "outputs": [],
   "source": [
    "#Let transform the excel sheet to a DataFrame\n",
    "\n",
    "data_mulesoft = pd.read_excel('Mulesoft_metrics.xlsx')\n",
    "\n",
    "print(data_mulesoft)\n"
   ]
  },
  {
   "cell_type": "code",
   "execution_count": null,
   "id": "46e1bcd6-3845-4046-bce2-8eb1944a4588",
   "metadata": {},
   "outputs": [],
   "source": [
    "#Clean and formating the columns\n",
    "\n",
    "columns_to_clean = [\"Heap_commited\", \"Heap_Used\", \"Heap_total\"]\n",
    "\n",
    "data_mulesoft[columns_to_clean] = data_mulesoft[columns_to_clean].apply(lambda x: x.str.replace(\" 0\", \"\").astype(float))\n",
    "\n",
    "data_mulesoft.rename(columns={\"Date and Time \": \"Date and Time\"}, inplace=True)\n",
    "\n",
    "data_mulesoft[\"Date and Time\"] = pd.to_datetime(data_mulesoft[\"Date and Time\"])\n",
    "\n",
    "\n",
    "data_mulesoft[\"Time\"] = data_mulesoft[\"Date and Time\"].dt.time\n",
    "\n",
    "\n",
    "data_mulesoft = data_mulesoft.drop(columns=[\"Date and Time\"])\n",
    "\n",
    "\n",
    "print(data_mulesoft)\n",
    "\n"
   ]
  },
  {
   "cell_type": "markdown",
   "id": "3ea3a13c-4848-4752-b046-c4efcdf4b8c5",
   "metadata": {},
   "source": [
    "### Calculate Metrics for our baseline base"
   ]
  },
  {
   "cell_type": "code",
   "execution_count": null,
   "id": "5e1c9b9d-e412-451d-ac8c-a9908a392358",
   "metadata": {},
   "outputs": [],
   "source": [
    "#Calculate the Average and Standard deviation(heap_used)\n",
    "\n",
    "metrics = data_mulesoft.groupby('App_id').agg(\n",
    "    average_heap_used=('Heap_Used', 'mean'),\n",
    "    std_heap_used=('Heap_Used', 'std')\n",
    ").reset_index()\n",
    "\n"
   ]
  },
  {
   "cell_type": "code",
   "execution_count": null,
   "id": "c89cfa8d-93ba-4e1f-9448-60e375d9785e",
   "metadata": {},
   "outputs": [],
   "source": [
    "# Calculate thresholds\n",
    "\n",
    "metrics['lower_threshold'] = metrics['average_heap_used'] - 1.5 * metrics['std_heap_used']\n",
    "metrics['upper_threshold'] = metrics['average_heap_used'] + 1.5 * metrics['std_heap_used']"
   ]
  },
  {
   "cell_type": "code",
   "execution_count": null,
   "id": "4d27bb3d-92ed-4155-b727-af5cbc8ef420",
   "metadata": {},
   "outputs": [],
   "source": [
    "print(metrics)"
   ]
  },
  {
   "cell_type": "code",
   "execution_count": null,
   "id": "19442774-47a0-4cc1-b3e4-79e0d5ec5ab6",
   "metadata": {},
   "outputs": [],
   "source": [
    "data_mulesoft = data_mulesoft.merge(metrics, on='App_id')"
   ]
  },
  {
   "cell_type": "code",
   "execution_count": null,
   "id": "db12d100-f8fc-4d6a-bee5-53fe692a45e5",
   "metadata": {},
   "outputs": [],
   "source": [
    "print(data_mulesoft)"
   ]
  },
  {
   "cell_type": "markdown",
   "id": "f19754f8-d608-4968-b0a9-9089d017fbc8",
   "metadata": {},
   "source": [
    "### Let's hightlight the outliers"
   ]
  },
  {
   "cell_type": "code",
   "execution_count": null,
   "id": "8bcda2b8-9b28-4660-af75-4fab67785cac",
   "metadata": {},
   "outputs": [],
   "source": [
    "data_mulesoft['outlier'] = (\n",
    "    (data_mulesoft['Heap_Used'] < data_mulesoft['lower_threshold']) |\n",
    "    (data_mulesoft['Heap_Used'] > data_mulesoft['upper_threshold'])\n",
    ")\n",
    "\n",
    "outliers = data_mulesoft[data_mulesoft['outlier'] == True]\n",
    "\n",
    "print(outliers)"
   ]
  },
  {
   "cell_type": "markdown",
   "id": "dc7d6e6f-db84-4406-9004-abf96a1c4f48",
   "metadata": {},
   "source": [
    "### Visualization of the Data"
   ]
  },
  {
   "cell_type": "code",
   "execution_count": null,
   "id": "d5a4f403-a1a0-4cfd-9316-2bba9718c136",
   "metadata": {},
   "outputs": [],
   "source": [
    "fig = px.line(\n",
    "    data_mulesoft, x='Time', y='Heap_Used', color='App_id',\n",
    "    title='Heap Used Over Time',\n",
    "    labels={'Heap_Used': 'Heap Used (MB)'}\n",
    ")\n",
    "fig.show()"
   ]
  },
  {
   "cell_type": "code",
   "execution_count": null,
   "id": "e2a1e8e5-0a09-4141-a183-22906be0318c",
   "metadata": {},
   "outputs": [],
   "source": [
    "#Adding Threshold\n",
    "\n",
    "for app in data_mulesoft['App_id'].unique():\n",
    "    app_data = data_mulesoft[data_mulesoft['App_id'] == app]\n",
    "    fig = go.Figure()\n",
    "    fig.add_trace(go.Scatter(\n",
    "        x=app_data['Time'], y=app_data['Heap_Used'], mode='lines', name='Heap Used'\n",
    "    ))\n",
    "    fig.add_trace(go.Scatter(\n",
    "        x=app_data['Time'], y=app_data['upper_threshold'], mode='lines', name='Upper Threshold', line=dict(dash='dash')\n",
    "    ))\n",
    "    fig.add_trace(go.Scatter(\n",
    "        x=app_data['Time'], y=app_data['lower_threshold'], mode='lines', name='Lower Threshold', line=dict(dash='dash')\n",
    "    ))\n",
    "    fig.update_layout(title=f\"Memory Utilization for App {app}\", xaxis_title='Time', yaxis_title='Heap Used')\n",
    "    fig.show()"
   ]
  },
  {
   "cell_type": "code",
   "execution_count": null,
   "id": "58753b79-dbea-4257-9b9c-236b6df5fe6c",
   "metadata": {},
   "outputs": [],
   "source": [
    "!pip install nbconvert"
   ]
  },
  {
   "cell_type": "code",
   "execution_count": null,
   "id": "14f95b20-51ce-42f4-be16-8c29f5f5dafb",
   "metadata": {},
   "outputs": [],
   "source": [
    "!jupyter nbconvert --to markdown Mulesoft_Baseline_Sample.ipynb\n"
   ]
  },
  {
   "cell_type": "code",
   "execution_count": null,
   "id": "c0923101-0277-4b1f-be2d-ad6a67821e2a",
   "metadata": {},
   "outputs": [],
   "source": [
    "!jupyter nbconvert --to html  Mulesoft_Baseline_Sample.ipynb"
   ]
  },
  {
   "cell_type": "code",
   "execution_count": null,
   "id": "93332cb2-8b61-4762-8966-c677171b3be2",
   "metadata": {},
   "outputs": [],
   "source": []
  }
 ],
 "metadata": {
  "kernelspec": {
   "display_name": "Python 3 (ipykernel)",
   "language": "python",
   "name": "python3"
  },
  "language_info": {
   "codemirror_mode": {
    "name": "ipython",
    "version": 3
   },
   "file_extension": ".py",
   "mimetype": "text/x-python",
   "name": "python",
   "nbconvert_exporter": "python",
   "pygments_lexer": "ipython3",
   "version": "3.11.9"
  }
 },
 "nbformat": 4,
 "nbformat_minor": 5
}
